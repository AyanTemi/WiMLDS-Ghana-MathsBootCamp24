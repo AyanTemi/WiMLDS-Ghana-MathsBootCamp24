{
  "cells": [
    {
      "cell_type": "code",
      "execution_count": null,
      "id": "herbal-sacrifice",
      "metadata": {
        "id": "herbal-sacrifice"
      },
      "outputs": [],
      "source": [
        "#IMPORT LIBRARIES\n",
        "import numpy as np\n",
        "import matplotlib.pyplot as plt"
      ]
    },
    {
      "cell_type": "markdown",
      "id": "running-virginia",
      "metadata": {
        "id": "running-virginia"
      },
      "source": [
        "You are given a list of inputs $x$ and outputs $y$ and a linear regression model. The aim of this exercise is to validate the given model by calculating the mean square error (MSE) and the coefficient of determination (R-squared)."
      ]
    },
    {
      "cell_type": "code",
      "execution_count": null,
      "id": "described-bermuda",
      "metadata": {
        "id": "described-bermuda"
      },
      "outputs": [],
      "source": [
        "x=[-2.0,-1.6,-1.1,-0.67,-0.22,0.22,0.67,1.11,1.6,2.0]\n",
        "y=[-0.46,1.3,0.27,1.4,2.6,2.9,3.1,2.3,3.8,3.6]"
      ]
    },
    {
      "cell_type": "markdown",
      "id": "characteristic-longer",
      "metadata": {
        "id": "characteristic-longer"
      },
      "source": [
        "1. What is the design matrix $X$?"
      ]
    },
    {
      "cell_type": "code",
      "execution_count": null,
      "id": "derived-swiss",
      "metadata": {
        "id": "derived-swiss"
      },
      "outputs": [],
      "source": [
        "# CONSTRUCT THE DESIGN MATRIX\n",
        "X= np.vstack((np.ones(len(x)), x)).T"
      ]
    },
    {
      "cell_type": "markdown",
      "id": "exotic-roots",
      "metadata": {
        "id": "exotic-roots"
      },
      "source": [
        "2. The linear regression model is given by $y\\_pre=\\theta_0+x\\theta_1$, in  matrix form we have $y\\_pre=X*\\theta$ where $\\theta_0=2.08$ and $\\theta_1=0.94$. Compute the predicted output $y\\_pre$"
      ]
    },
    {
      "cell_type": "code",
      "execution_count": null,
      "id": "endangered-argument",
      "metadata": {
        "id": "endangered-argument"
      },
      "outputs": [],
      "source": [
        "# CREATE A LIST FOR YOUR PARAMETERS\n",
        "Theta = np.array([2.08, 0.94])\n",
        "\n",
        "#COMPUTE THE PREDICTED OUTPUT\n",
        "y_pre= X @ Theta"
      ]
    },
    {
      "cell_type": "markdown",
      "id": "devoted-fiber",
      "metadata": {
        "id": "devoted-fiber"
      },
      "source": [
        "3. Compute the MSE and the R-squared\n",
        "$$MSE=\\frac{1}{n}\\sum_{i=0}^n(y_{i}-y_{pred,i})^2$$\n",
        "$$R^2=1-\\frac{SSR}{TSS}$$\n",
        "$$SSR=\\sum_{i=0}^n(y_{i}-y_{pred,i})^2$$\n",
        "$$TSS=\\sum_{i=0}^n(y_{i}-\\overline{y_i})^2$$"
      ]
    },
    {
      "cell_type": "code",
      "execution_count": null,
      "id": "tropical-queen",
      "metadata": {
        "id": "tropical-queen",
        "outputId": "874bce43-ca72-4586-e97e-ffcbede710c0",
        "colab": {
          "base_uri": "https://localhost:8080/"
        }
      },
      "outputs": [
        {
          "output_type": "stream",
          "name": "stdout",
          "text": [
            "Mean Squared Error: 0.34752241200000006\n",
            "R-squared: 0.8079868920138196\n"
          ]
        }
      ],
      "source": [
        "MSE = np.mean((y - y_pre) ** 2)\n",
        "print(\"Mean Squared Error:\",MSE)\n",
        "SSR = np.sum((y - y_pre) ** 2)\n",
        "y_mean = np.mean(y)\n",
        "TSS = np.sum((y - y_mean) ** 2)\n",
        "r2 = 1 - (SSR / TSS)\n",
        "print(\"R-squared:\",r2)"
      ]
    },
    {
      "cell_type": "markdown",
      "id": "native-scroll",
      "metadata": {
        "id": "native-scroll"
      },
      "source": [
        " 4. Is this model good?\n",
        "\n",
        " Yes"
      ]
    },
    {
      "cell_type": "markdown",
      "id": "effective-karma",
      "metadata": {
        "id": "effective-karma"
      },
      "source": [
        "5. Plot the true outputs and the predicted against the inputs on the same figure"
      ]
    },
    {
      "cell_type": "code",
      "execution_count": null,
      "id": "synthetic-polymer",
      "metadata": {
        "id": "synthetic-polymer",
        "outputId": "a163b9e5-06dc-4978-d1ff-a2fca4c8e5ef",
        "colab": {
          "base_uri": "https://localhost:8080/",
          "height": 472
        }
      },
      "outputs": [
        {
          "output_type": "display_data",
          "data": {
            "text/plain": [
              "<Figure size 640x480 with 1 Axes>"
            ],
            "image/png": "[encoded data removed]"
          },
          "metadata": {}
        }
      ],
      "source": [
        "#=======================\n",
        "#Visualize the model\n",
        "#=======================\n",
        "\n",
        "plt.figure(1)\n",
        "plt.scatter(x, y,label='True values')\n",
        "plt.plot(x,y_pre, 'b',label='Predictions')\n",
        "plt.xlabel('inputs')\n",
        "plt.ylabel('outputs')\n",
        "plt.title('Linear Regression')\n",
        "plt.legend()\n",
        "plt.show()"
      ]
    }
  ],
  "metadata": {
    "kernelspec": {
      "display_name": "Python 3 (ipykernel)",
      "language": "python",
      "name": "python3"
    },
    "language_info": {
      "codemirror_mode": {
        "name": "ipython",
        "version": 3
      },
      "file_extension": ".py",
      "mimetype": "text/x-python",
      "name": "python",
      "nbconvert_exporter": "python",
      "pygments_lexer": "ipython3",
      "version": "3.10.12"
    },
    "colab": {
      "provenance": []
    }
  },
  "nbformat": 4,
  "nbformat_minor": 5
}
