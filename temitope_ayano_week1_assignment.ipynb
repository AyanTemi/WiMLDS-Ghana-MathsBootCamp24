{
  "nbformat": 4,
  "nbformat_minor": 0,
  "metadata": {
    "colab": {
      "provenance": []
    },
    "kernelspec": {
      "name": "python3",
      "display_name": "Python 3"
    },
    "language_info": {
      "name": "python"
    }
  },
  "cells": [
    {
      "cell_type": "code",
      "source": [
        "#import libraries\n",
        "import numpy as np\n",
        "import numpy as np\n",
        "import pandas as pd\n",
        "from sklearn.decomposition import PCA\n",
        "from sklearn.preprocessing import StandardScaler"
      ],
      "metadata": {
        "id": "SKBQi0edn6h1"
      },
      "execution_count": 8,
      "outputs": []
    },
    {
      "cell_type": "markdown",
      "source": [
        "## Question 1:\n",
        "**Component-wise division v/u**"
      ],
      "metadata": {
        "id": "ke7UTmD4a6_8"
      }
    },
    {
      "cell_type": "code",
      "execution_count": 9,
      "metadata": {
        "id": "dIn3jJxanaL6"
      },
      "outputs": [],
      "source": [
        "#use numpy to create vector v and u\n",
        "v = np.array([2,4,6,8,10])\n",
        "u = np.array([1,3,5,7,9])"
      ]
    },
    {
      "cell_type": "code",
      "source": [
        "#divide vector v by vector u\n",
        "v/u"
      ],
      "metadata": {
        "colab": {
          "base_uri": "https://localhost:8080/",
          "height": 0
        },
        "id": "7GeltJZynfWH",
        "outputId": "76b7a11d-5e85-41be-e0af-9c9f125f1dcf"
      },
      "execution_count": 10,
      "outputs": [
        {
          "output_type": "execute_result",
          "data": {
            "text/plain": [
              "array([2.        , 1.33333333, 1.2       , 1.14285714, 1.11111111])"
            ]
          },
          "metadata": {},
          "execution_count": 10
        }
      ]
    },
    {
      "cell_type": "markdown",
      "source": [
        "## Question 1(ii):\n",
        "**Compute 3v − 2u + 0.5v**"
      ],
      "metadata": {
        "id": "0br8V-ylbNPI"
      }
    },
    {
      "cell_type": "code",
      "source": [
        "#compute the second operation\n",
        "(3*v) - (2*u) + (0.5*v)"
      ],
      "metadata": {
        "colab": {
          "base_uri": "https://localhost:8080/",
          "height": 0
        },
        "id": "WgxtvCainjLq",
        "outputId": "2f1c2605-a715-43ee-8cb2-0f0c24a54bdb"
      },
      "execution_count": 11,
      "outputs": [
        {
          "output_type": "execute_result",
          "data": {
            "text/plain": [
              "array([ 5.,  8., 11., 14., 17.])"
            ]
          },
          "metadata": {},
          "execution_count": 11
        }
      ]
    },
    {
      "cell_type": "markdown",
      "source": [
        "## Question 1b:\n",
        "**Compute the Euclidean norm (magnitude) of the vector v = [8, 0, 5, 2, 1]**"
      ],
      "metadata": {
        "id": "b_JqhrgcbhOZ"
      }
    },
    {
      "cell_type": "code",
      "source": [
        "#use numpy to create vector v\n",
        "v = np.array([8, 0, 5, 2, 1])"
      ],
      "metadata": {
        "id": "qjaY9XD7bqVY"
      },
      "execution_count": 13,
      "outputs": []
    },
    {
      "cell_type": "code",
      "source": [
        "# Compute the Euclidean magnitude\n",
        "euclidean_norm = np.linalg.norm(v)\n",
        "euclidean_norm"
      ],
      "metadata": {
        "colab": {
          "base_uri": "https://localhost:8080/",
          "height": 0
        },
        "id": "tx4T9X6pcbzk",
        "outputId": "719cd4b4-d273-4627-8618-9e115aac47e4"
      },
      "execution_count": 15,
      "outputs": [
        {
          "output_type": "execute_result",
          "data": {
            "text/plain": [
              "9.695359714832659"
            ]
          },
          "metadata": {},
          "execution_count": 15
        }
      ]
    },
    {
      "cell_type": "markdown",
      "source": [
        "## Question 2:\n",
        "**Compute the determinant of a matrix A**"
      ],
      "metadata": {
        "id": "AKhEjg_Rcvlj"
      }
    },
    {
      "cell_type": "code",
      "source": [
        "#use numpy to create matrix A\n",
        "\n",
        "A = np.array([[2, 3, 7],\n",
        "              [-4, 0, 6],\n",
        "              [1, 5, 0]])"
      ],
      "metadata": {
        "id": "7zbSf7BFc5nc"
      },
      "execution_count": 16,
      "outputs": []
    },
    {
      "cell_type": "code",
      "source": [
        "# Compute the determinant\n",
        "determinant = np.linalg.det(A)\n",
        "determinant"
      ],
      "metadata": {
        "colab": {
          "base_uri": "https://localhost:8080/",
          "height": 0
        },
        "id": "mwzmTnAIdqLc",
        "outputId": "d8228937-1911-45e6-9082-d87e9be906f1"
      },
      "execution_count": 18,
      "outputs": [
        {
          "output_type": "execute_result",
          "data": {
            "text/plain": [
              "-181.99999999999997"
            ]
          },
          "metadata": {},
          "execution_count": 18
        }
      ]
    },
    {
      "cell_type": "markdown",
      "source": [
        "## Question 3:\n",
        "**Compute the eigenvalues and eigenvectors of matrix B.**"
      ],
      "metadata": {
        "id": "VnUahXf2d3Fv"
      }
    },
    {
      "cell_type": "code",
      "source": [
        "#use numpy to create matrix B\n",
        "B = np.array([[3, 2, 4],\n",
        "              [2, 0, 2],\n",
        "              [4, 2, 3]])"
      ],
      "metadata": {
        "id": "-taQb-Ssed3v"
      },
      "execution_count": 19,
      "outputs": []
    },
    {
      "cell_type": "code",
      "source": [
        "# Compute the eigenvalues and eigenvectors\n",
        "eigenvalues, eigenvectors = np.linalg.eig(B)\n",
        "\n",
        "# Output the results\n",
        "print(\"Eigenvalues of the matrix B are: \\n\", eigenvalues)\n",
        "print(\"\\nEigenvectors of the matrix B are:\\n\", eigenvectors)"
      ],
      "metadata": {
        "colab": {
          "base_uri": "https://localhost:8080/",
          "height": 0
        },
        "id": "cGzTRKTpehNM",
        "outputId": "7123eadb-3178-4d1a-cecb-e981c26414c3"
      },
      "execution_count": 24,
      "outputs": [
        {
          "output_type": "stream",
          "name": "stdout",
          "text": [
            "Eigenvalues of the matrix B are: \n",
            " [-1.  8. -1.]\n",
            "\n",
            "Eigenvectors of the matrix B are:\n",
            " [[-0.74535599  0.66666667 -0.21539222]\n",
            " [ 0.2981424   0.33333333 -0.77010996]\n",
            " [ 0.59628479  0.66666667  0.6004472 ]]\n"
          ]
        }
      ]
    },
    {
      "cell_type": "markdown",
      "source": [
        "## Question 3:\n",
        "**Verify whether the following vectors are eigenvectors of the matrix D**"
      ],
      "metadata": {
        "id": "7HEc7u9Uftja"
      }
    },
    {
      "cell_type": "code",
      "source": [
        "#use numpy to create matrix D\n",
        "D = np.array([[3, 1, 2],\n",
        "              [1, 3, 1],\n",
        "              [2, 1, 3]])\n",
        "\n",
        "#compute vector v1 and v2\n",
        "v1 = np.array([1, 1, 1])\n",
        "v2 = np.array([-1, 1, -1])"
      ],
      "metadata": {
        "id": "zW2CODy2f87t"
      },
      "execution_count": 27,
      "outputs": []
    },
    {
      "cell_type": "code",
      "source": [
        "# Compute D * v1 and D * v2\n",
        "Dv1 = np.dot(D, v1)\n",
        "Dv2 = np.dot(D, v2)\n",
        "\n",
        "print(\"D * v1 =\", Dv1)\n",
        "print(\"D * v2 =\", Dv2)"
      ],
      "metadata": {
        "colab": {
          "base_uri": "https://localhost:8080/",
          "height": 0
        },
        "id": "WQkHVmABhw9L",
        "outputId": "e5351a61-cce4-42cf-df0b-b8e576bde4b2"
      },
      "execution_count": 29,
      "outputs": [
        {
          "output_type": "stream",
          "name": "stdout",
          "text": [
            "D * v1 = [6 5 6]\n",
            "D * v2 = [-4  1 -4]\n"
          ]
        }
      ]
    },
    {
      "cell_type": "code",
      "source": [
        "# Check if D * v1 is a scalar multiple of v1\n",
        "if np.allclose(Dv1, v1 * (Dv1[0] / v1[0])):\n",
        "    print(\"v1 is an eigenvector of D with eigenvalue\", Dv1[0] / v1[0])\n",
        "else:\n",
        "    print(\"v1 is not an eigenvector of D\")\n",
        "\n",
        "# Check if D * v2 is a scalar multiple of v2\n",
        "if np.allclose(Dv2, v2 * (Dv2[0] / v2[0])):\n",
        "    print(\"v2 is an eigenvector of D with eigenvalue\", Dv2[0] / v2[0])\n",
        "else:\n",
        "    print(\"v2 is not an eigenvector of D\")"
      ],
      "metadata": {
        "colab": {
          "base_uri": "https://localhost:8080/",
          "height": 0
        },
        "id": "fLbRnfp8h4yl",
        "outputId": "b4260867-9c9c-4901-aaea-56fc6bb13db3"
      },
      "execution_count": 30,
      "outputs": [
        {
          "output_type": "stream",
          "name": "stdout",
          "text": [
            "v1 is not an eigenvector of D\n",
            "v2 is not an eigenvector of D\n"
          ]
        }
      ]
    },
    {
      "cell_type": "markdown",
      "source": [
        "## Question 4:\n",
        "**Perform PCA on a dataset to reduce the dimensionality of the dataset to two dimensions.**"
      ],
      "metadata": {
        "id": "3-4zBWR9iZHo"
      }
    },
    {
      "cell_type": "code",
      "source": [
        "#use numpy to create the dataset\n",
        "X = np.array([[4, 2, 3],\n",
        "              [3, 13, 4],\n",
        "              [9, 4, 5],\n",
        "              [0, 5, 7]])"
      ],
      "metadata": {
        "id": "c8DTTe_Y-BXe"
      },
      "execution_count": 31,
      "outputs": []
    },
    {
      "cell_type": "markdown",
      "source": [
        "### Step 1 - Standardization"
      ],
      "metadata": {
        "id": "SivjuEKsipT1"
      }
    },
    {
      "cell_type": "code",
      "source": [
        "# Step 1: Standardize the dataset\n",
        "scaler = StandardScaler(with_std=False)\n",
        "X_standardized = scaler.fit_transform(X)\n",
        "\n",
        "# Calculate the standard deviations for scaling\n",
        "std_devs = np.std(X_standardized, axis=0)\n",
        "X_standardized = X_standardized / std_devs"
      ],
      "metadata": {
        "id": "j41586LfFp8o"
      },
      "execution_count": null,
      "outputs": []
    },
    {
      "cell_type": "markdown",
      "source": [
        "### Step 2 - Covariance Matrix Computation"
      ],
      "metadata": {
        "id": "KvFkrWQdi6VF"
      }
    },
    {
      "cell_type": "code",
      "source": [
        "# Step 2: Compute the covariance matrix\n",
        "n = X_standardized.shape[0]\n",
        "cov_matrix = np.dot(X_standardized.T, X_standardized) / n"
      ],
      "metadata": {
        "id": "9LUFiFYXi61f"
      },
      "execution_count": 32,
      "outputs": []
    },
    {
      "cell_type": "markdown",
      "source": [
        "### Step 3 - Compute Eigenvectors and Eigenvalues"
      ],
      "metadata": {
        "id": "p8HyPE6LjEBd"
      }
    },
    {
      "cell_type": "code",
      "source": [
        "# Step 3: Compute eigenvalues and eigenvectors\n",
        "eigenvalues, eigenvectors = np.linalg.eig(cov_matrix)\n",
        "print(\"\\nEigenvalues:\\n\", eigenvalues)\n",
        "print(\"\\nEigenvectors:\\n\", eigenvectors)"
      ],
      "metadata": {
        "colab": {
          "base_uri": "https://localhost:8080/",
          "height": 0
        },
        "id": "JPb-agbdjC_K",
        "outputId": "626571f2-e224-4359-c508-dceaedf43135"
      },
      "execution_count": 33,
      "outputs": [
        {
          "output_type": "stream",
          "name": "stdout",
          "text": [
            "\n",
            "Eigenvalues:\n",
            " [0.54397045 1.41900369 1.03702586]\n",
            "\n",
            "Eigenvectors:\n",
            " [[-0.69154646 -0.72136936  0.03727924]\n",
            " [-0.41590627  0.35545374 -0.83706309]\n",
            " [-0.59058062  0.59437268  0.54583482]]\n"
          ]
        }
      ]
    },
    {
      "cell_type": "markdown",
      "source": [
        "### Step 4 - Create Feature Vector"
      ],
      "metadata": {
        "id": "KZ0V93XqjZYN"
      }
    },
    {
      "cell_type": "code",
      "source": [
        "# Step 4: Sort the eigenvalues and corresponding eigenvectors\n",
        "sorted_indices = np.argsort(eigenvalues)[::-1]\n",
        "sorted_eigenvalues = eigenvalues[sorted_indices]\n",
        "sorted_eigenvectors = eigenvectors[:, sorted_indices]\n",
        "\n",
        "print(\"\\nSorted eigenvalues:\\n\", sorted_eigenvalues)"
      ],
      "metadata": {
        "colab": {
          "base_uri": "https://localhost:8080/",
          "height": 0
        },
        "id": "Oj2C8GGGjXcG",
        "outputId": "4dad3f0f-7885-4bd0-c4d2-80eff046bcf1"
      },
      "execution_count": 34,
      "outputs": [
        {
          "output_type": "stream",
          "name": "stdout",
          "text": [
            "\n",
            "Sorted eigenvalues:\n",
            " [1.41900369 1.03702586 0.54397045]\n",
            "\n",
            "Top 2 eigenvectors:\n",
            " [[-0.72136936  0.03727924]\n",
            " [ 0.35545374 -0.83706309]\n",
            " [ 0.59437268  0.54583482]]\n"
          ]
        }
      ]
    },
    {
      "cell_type": "code",
      "source": [
        "# Choose the top 2 eigenvectors\n",
        "top_2_eigenvectors = sorted_eigenvectors[:, :2]\n",
        "\n",
        "print(\"\\nTop 2 eigenvectors:\\n\", top_2_eigenvectors)"
      ],
      "metadata": {
        "colab": {
          "base_uri": "https://localhost:8080/",
          "height": 0
        },
        "id": "y3JJZ4nXjrgI",
        "outputId": "95b61a2f-1626-4106-96f9-9be0a7135d01"
      },
      "execution_count": 37,
      "outputs": [
        {
          "output_type": "stream",
          "name": "stdout",
          "text": [
            "\n",
            "Top 2 eigenvectors:\n",
            " [[-0.72136936  0.03727924]\n",
            " [ 0.35545374 -0.83706309]\n",
            " [ 0.59437268  0.54583482]]\n"
          ]
        }
      ]
    },
    {
      "cell_type": "markdown",
      "source": [
        "### Step 5: Recast the Data Along the Principal Components Axes"
      ],
      "metadata": {
        "id": "VlquFticj7c2"
      }
    },
    {
      "cell_type": "code",
      "source": [
        "# Step 6: Transform the original dataset\n",
        "X_reduced = np.dot(X_standardized, top_2_eigenvectors)\n",
        "\n",
        "print(\"\\nReduced dataset:\\n\", X_reduced)"
      ],
      "metadata": {
        "colab": {
          "base_uri": "https://localhost:8080/",
          "height": 0
        },
        "id": "QnrL0ci7j6cw",
        "outputId": "6f32e2e7-e425-46d6-cce3-d674da472036"
      },
      "execution_count": 38,
      "outputs": [
        {
          "output_type": "stream",
          "name": "stdout",
          "text": [
            "\n",
            "Reduced dataset:\n",
            " [[-1.04315003  0.15454493]\n",
            " [ 0.51600533 -1.68896784]\n",
            " [-1.18256916  0.54997873]\n",
            " [ 1.70971385  0.98444418]]\n"
          ]
        }
      ]
    },
    {
      "cell_type": "markdown",
      "source": [
        "# Question 4b\n",
        "**Compute the percentage of variance explained by each principal component**"
      ],
      "metadata": {
        "id": "zdYaLPHakJTJ"
      }
    },
    {
      "cell_type": "code",
      "source": [
        "explained_variance = sorted_eigenvalues / np.sum(sorted_eigenvalues) * 100\n",
        "\n",
        "# Output the results\n",
        "print(\"Standardized dataset:\\n\", X_standardized)\n",
        "print(\"\\nCovariance matrix:\\n\", cov_matrix)\n",
        "\n",
        "\n",
        "\n",
        "print(\"\\nPercentage of variance explained by each principal component:\\n\", explained_variance)"
      ],
      "metadata": {
        "colab": {
          "base_uri": "https://localhost:8080/",
          "height": 0
        },
        "id": "pdYdG8_hkFlh",
        "outputId": "bd993c60-b2e2-4922-a2e3-c3af9e01dd8d"
      },
      "execution_count": 40,
      "outputs": [
        {
          "output_type": "stream",
          "name": "stdout",
          "text": [
            "Standardized dataset:\n",
            " [[ 0.         -0.95618289 -1.18321596]\n",
            " [-0.3086067   1.67332005 -0.50709255]\n",
            " [ 1.5430335  -0.47809144  0.16903085]\n",
            " [-1.2344268  -0.23904572  1.52127766]]\n",
            "\n",
            "Covariance matrix:\n",
            " [[ 1.         -0.23975611 -0.36514837]\n",
            " [-0.23975611  1.         -0.0404061 ]\n",
            " [-0.36514837 -0.0404061   1.        ]]\n",
            "\n",
            "Percentage of variance explained by each principal component:\n",
            " [47.30012302 34.56752871 18.13234827]\n"
          ]
        }
      ]
    }
  ]
}